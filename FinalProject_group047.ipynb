{
 "cells": [
  {
   "cell_type": "markdown",
   "metadata": {},
   "source": [
    "# COGS 118A - Final Project"
   ]
  },
  {
   "cell_type": "markdown",
   "metadata": {},
   "source": [
    "# Insert title here\n",
    "\n",
    "## Group members\n",
    "\n",
    "- Lingxi Li\n",
    "- Jianghua Lu\n",
    "- Yvonne Luo\n",
    "- Man Kui Sit\n",
    "- Robert Zhang"
   ]
  },
  {
   "cell_type": "markdown",
   "metadata": {},
   "source": [
    "# Abstract \n",
    "This section should be short and clearly stated. It should be a single paragraph <200 words.  It should summarize: \n",
    "- what your goal/problem is\n",
    "- what the data used represents \n",
    "- the solution/what you did\n",
    "- major results you came up with (mention how results are measured) \n",
    "\n",
    "__NB:__ this final project form is much more report-like than the proposal and the checkpoint. Think in terms of writing a paper with bits of code in the middle to make the plots/tables"
   ]
  },
  {
   "cell_type": "markdown",
   "metadata": {},
   "source": [
    "# Background\n",
    "\n",
    "Fill in the background and discuss the kind of prior work that has gone on in this research area here. **Use inline citation** to specify which references support which statements.  You can do that through HTML footnotes (demonstrated here). I used to reccommend Markdown footnotes (google is your friend) because they are simpler but recently I have had some problems with them working for me whereas HTML ones always work so far. So use the method that works for you, but do use inline citations.\n",
    "\n",
    "Here is an example of inline citation. After government genocide in the 20th century, real birds were replaced with surveillance drones designed to look just like birds<a name=\"lorenz\"></a>[<sup>[1]</sup>](#lorenznote). Use a minimum of 2 or 3 citations, but we prefer more <a name=\"admonish\"></a>[<sup>[2]</sup>](#admonishnote). You need enough citations to fully explain and back up important facts. \n",
    "\n",
    "Remeber you are trying to explain why someone would want to answer your question or why your hypothesis is in the form that you've stated. "
   ]
  },
  {
   "cell_type": "markdown",
   "metadata": {},
   "source": [
    "# Problem Statement\n",
    "\n",
    "The problem we are trying to solve is predicting housing price based on its condition and features(specific feature selection to be determined). Some examples of features include: Neighborhood(Physical locations within Ames city limits), LotArea(Lot size in square feet), Utilities(Type of utilities available), YearBuilt(Original construction date), etc. More detailed descriptions and definitions of features will be included in the data section. This problem is quantifiable because all measurements are either originally numerical or can be encoded numerically using strategies such as one-hot encoding; the problem is measurable because the final predicted result price can be directly compared to the actual price using the difference between the predicted and actual price, R^2, and Root Mean Square Error as the metrics; the problem is replicable because all the machine learning models can be selected, trained, and tested based on the data we found repeatedly in order to verify the result."
   ]
  },
  {
   "cell_type": "markdown",
   "metadata": {},
   "source": [
    "# Data\n",
    "\n",
    "The dataset originates from an open source machine learning competition from Kaggle. In total it contains roughly 3000 data samples containing house sales in the past 20 years. The dataset contains extremely comprehensive all-around descriptions of every aspect of a house, some of which are even a bit repetitive. The information ranges from house overall dwelling type, house built material, and house condition, to minute details and walkway pavement material, basement height, or number of fireplaces. For the sake of our prediction, such exhaustive information is both conducive for the task, since the more informative details we have, the better our model is supposed to generalize. On the other hand, too many repetitive features might only add up to the training complexity, and even render our model hard to apply in a real world setting as it might be hard to gather all such information about a house. Thus, some extent of data selection and preprocessing is needed. Some repetitive features, such as road access and alley access type, can be combined into one. Some features like exterior finish material are broken up into two separate columns, one for only one material and another for multiple materials used. Such can also be combined into one. Some features, such as basement area, basement height, basement material, basement conditions, etc. are all descriptions of the basement and might be too detailed for the task. So we will use some data selection and preprocessing to trim them down into lower dimensionality.\n",
    "\n",
    "Here we give some basic visualization of the raw data and postpone the actual data cleaning to later sections. The data can be divided into two major categories, numerical and categorical. Since the two types of data are inherently different in terms of preprocessing techinques, we generate different visualizations for them. \n",
    "\n",
    "First in figure below, we visualize the distribution of our final target, the house prices. We can observe that most house prices lie in the range around 200k USD. The overall distribution is also a descently shaped Gaussian. \n",
    "![House price distribution](./graphs/price_dist.png)\n",
    "\n",
    "Below is the overall distribution visualization for each one of the numerical features in our dataset. This is a general visualization of all features. We can directly observe that some features, such as low quality finish, is predominated by one features. Features like this will contribution minimally to our final prediction and are candidates for removal. \n",
    "![numerical dist](./graphs/num_hist.png)\n",
    "\n",
    "Another important aspect of the data is correlation. Since in the end we want to devise a regression model with respect to house price, correlation with house prices is of great importance. Below is a correlation heatmap with respect to all numerical features in place. Just by directly observing the correlations, some features already stand out in importance such as years built and number of rooms (in light color). Those darker features can be considered for removal later on. \n",
    "![correlation](./graphs/corr.png)\n",
    "\n",
    "With respect to categorical features, we present a graph showing all the histograms as well. Similar to what we conclude with numerical features, those features that are predominatantly lying in one category are likely to make very minimal contribution to our regression task, hence considered for removal later on. \n",
    "![cat hist](./graphs/cat_hist.png)\n",
    "\n",
    "**All related code for visualization is provided in data_processing_v2.ipynb notebook for space saving reasons**"
   ]
  },
  {
   "cell_type": "markdown",
   "metadata": {},
   "source": [
    "# Proposed Solution\n",
    "\n",
    "In this section, clearly describe a solution to the problem. The solution should be applicable to the project domain and appropriate for the dataset(s) or input(s) given. Provide enough detail (e.g., algorithmic description and/or theoretical properties) to convince us that your solution is applicable. Make sure to describe how the solution will be tested.  \n",
    "\n",
    "If you know details already, describe how (e.g., library used, function calls) you plan to implement the solution in a way that is reproducible.\n",
    "\n",
    "If it is appropriate to the problem statement, describe a benchmark model<a name=\"sota\"></a>[<sup>[3]</sup>](#sotanote) against which your solution will be compared. "
   ]
  },
  {
   "cell_type": "markdown",
   "metadata": {},
   "source": [
    "# Evaluation Metrics\n",
    "\n",
    "Since we are predicting future housing prices based on current data, we  implement a regression model. R^2, coefficient of determination, is a popular evaluation metric for goodness of fit when it comes to regression tasks. It is “the proportion of the variance in the dependent variable that is predictable from the independent variable”<a name=\"wiki\"></a>[<sup>[1]</sup>](#wikinote). The value of R^2 ranges from 0 to 1 (R^2 of a model could be less than zero/negative, which is worse than R^2=0 that’s always predicting the mean value of y), and a R^2 value of 1 is the best scenario when the model gives perfect predictions. In the context of our project, we interpret R^2 as the proportion of the variance in the target variable (selling prices) that can be explained by the features (utilities, house style, year built, etc.). \n",
    "\n",
    "$$\n",
    "R^2 = 1 - \\frac{\\sum(y_i-\\hat{y}_i)^2}{\\sum(y_i-\\overline{y}_i)}\n",
    "$$\n",
    "\n",
    "Another metric we are using is Root Mean Squared Error (RMSE), the standard deviation of the residuals. In the context of our project, we take the square root of the average of squared differences between predicted price and actual price. Since RMSE penalizes large errors, it’s very sensitive to outliers.\n",
    "\n",
    "$$\n",
    "RMSE = \\sqrt{\\frac{1}{n}\\sum{(y_j-\\hat{y}_j)^2}}\n",
    "$$\n",
    "\n",
    "Both metrics will provide crucial information regarding whether the model fits our data, while R^2 is scaled in percentage term, RMSE is in abosolute term so the value of RMSE will probably look large since we have big numbers."
   ]
  },
  {
   "cell_type": "markdown",
   "metadata": {},
   "source": [
    "# Results\n",
    "\n",
    "You may have done tons of work on this. Not all of it belongs here. \n",
    "\n",
    "Reports should have a __narrative__. Once you've looked through all your results over the quarter, decide on one main point and 2-4 secondary points you want us to understand. Include the detailed code and analysis results of those points only; you should spend more time/code/plots on your main point than the others.\n",
    "\n",
    "If you went down any blind alleys that you later decided to not pursue, please don't abuse the TAs time by throwing in 81 lines of code and 4 plots related to something you actually abandoned.  Consider deleting things that are not important to your narrative.  If its slightly relevant to the narrative or you just want us to know you tried something, you could keep it in by summarizing the result in this report in a sentence or two, moving the actual analysis to another file in your repo, and providing us a link to that file.\n",
    "\n"
   ]
  },
  {
   "cell_type": "markdown",
   "metadata": {},
   "source": [
    "### Subsection 1\n",
    "\n",
    "You will likely have different subsections as you go through your report. For instance you might start with an analysis of the dataset/problem and from there you might be able to draw out the kinds of algorithms that are / aren't appropriate to tackle the solution.  Or something else completely if this isn't the way your project works.\n",
    "\n",
    "Since our problem is a price prediction task, regression models are most appropriate. What we will do is develop a model that predicts housing sale prices based on different features of the houses."
   ]
  },
  {
   "cell_type": "markdown",
   "metadata": {},
   "source": [
    "### Subsection 2\n",
    "\n",
    "Based on the observations we made in our data introduction section, some extensive data cleaning and selections are performed. Our selection is mainly from statisical perspective. The first cleaning procedure is a variance threshold. As mentioned above, features with really low variance or those that lie predominantly in one feature category is unlikely to be of any use to our regression since they cannot be used to differentiate two data points. We choose a variance threshold of 0.1 meaning that we will be dropping the 10% of features in variance ranking. 'BsmtHalfBath', 'KitchenAbvGr' are the features dropped here. The next selection criterion is similar to variance. Correlation is a similar statistic attribute. We choose to drop the last 20% in terms of correlation. 'MSSubClass', 'OverallCond', 'BsmtFinSF2', 'LowQualFinSF', 'BedroomAbvGr', 'EnclosedPorch', '3SsnPorch', 'ScreenPorch', 'PoolArea', 'MiscVal', 'MoSold', 'YrSold' are the features dropped. After we are done with such feature selection, a visualization with respect to sale price, our final prediction target, is given below. \n",
    "![cat hist](./graphs/num_regression.png)\n",
    "\n",
    "\n",
    "A similar data cleaning procedure is done for categorical features. For those features 90% of which lie in one category are removed from prediction. 'Street', 'Utilities', 'LandSlope', 'Condition2', 'RoofMatl', 'BsmtCond', 'Heating', 'CentralAir', 'Electrical', 'Functional', 'GarageQual', 'GarageCond', 'PavedDrive', 'MiscFeature' are the set of features removed. \n",
    "\n",
    "'LotFrontage', 'LotArea', 'OverallQual', 'YearBuilt', 'YearRemodAdd',\n",
    "       'MasVnrArea', 'BsmtFinSF1', 'BsmtUnfSF', 'TotalBsmtSF', '1stFlrSF',\n",
    "       '2ndFlrSF', 'GrLivArea', 'BsmtFullBath', 'FullBath', 'HalfBath',\n",
    "       'TotRmsAbvGrd', 'Fireplaces', 'GarageYrBlt', 'GarageCars', 'GarageArea',\n",
    "       'WoodDeckSF', 'OpenPorchSF', 'SalePrice',\n",
    "       'MSZoning', 'Alley', 'LotShape', 'LandContour', 'LotConfig',\n",
    "       'Neighborhood', 'Condition1', 'BldgType', 'HouseStyle', 'RoofStyle',\n",
    "       'Exterior1st', 'Exterior2nd', 'MasVnrType', 'ExterQual', 'ExterCond',\n",
    "       'Foundation', 'BsmtQual', 'BsmtExposure', 'BsmtFinType1',\n",
    "       'BsmtFinType2', 'HeatingQC', 'KitchenQual', 'FireplaceQu', 'GarageType',\n",
    "       'GarageFinish', 'PoolQC', 'Fence', 'SaleType', 'SaleCondition'\n",
    "       \n",
    "are the remaining features that we will use for final task. For categorical features, we will transform them into numerical ones by using onehot encoding. "
   ]
  },
  {
   "cell_type": "code",
   "execution_count": null,
   "metadata": {},
   "outputs": [],
   "source": []
  },
  {
   "cell_type": "markdown",
   "metadata": {},
   "source": [
    "### Subsection 3\n",
    "\n",
    "Probably you need to describe the base model and demonstrate its performance.  Maybe you include a learning curve to show whether you have enough data to do train/validate/test split or have to go to k-folds or LOOCV or ???\n",
    "\n",
    "Our chosen base model is a logistic regression."
   ]
  },
  {
   "cell_type": "code",
   "execution_count": 24,
   "metadata": {},
   "outputs": [],
   "source": [
    "from sklearn.model_selection import train_test_split\n",
    "X_train, X_test, y_train, y_test = train_test_split(train, label, test_size=0.33, random_state=42)"
   ]
  },
  {
   "cell_type": "code",
   "execution_count": 25,
   "metadata": {},
   "outputs": [
    {
     "name": "stderr",
     "output_type": "stream",
     "text": [
      "c:\\Users\\Yvonne Luo\\AppData\\Local\\Programs\\Python\\Python39\\lib\\site-packages\\sklearn\\linear_model\\_logistic.py:444: ConvergenceWarning: lbfgs failed to converge (status=1):\n",
      "STOP: TOTAL NO. of ITERATIONS REACHED LIMIT.\n",
      "\n",
      "Increase the number of iterations (max_iter) or scale the data as shown in:\n",
      "    https://scikit-learn.org/stable/modules/preprocessing.html\n",
      "Please also refer to the documentation for alternative solver options:\n",
      "    https://scikit-learn.org/stable/modules/linear_model.html#logistic-regression\n",
      "  n_iter_i = _check_optimize_result(\n"
     ]
    },
    {
     "data": {
      "text/plain": [
       "array([0.6120332])"
      ]
     },
     "execution_count": 25,
     "metadata": {},
     "output_type": "execute_result"
    }
   ],
   "source": [
    "from sklearn.linear_model import LogisticRegression\n",
    "clf = LogisticRegression(random_state=0).fit(X_train, y_train)\n",
    "y_pred = clf.predict(X_test)\n",
    "y_score = 0\n",
    "diff = abs(y_pred - y_test)\n",
    "y_correct = np.where(diff < y_test.mean() * 0.2, 1, 0)\n",
    "y_score = y_correct.sum()/diff.shape\n",
    "y_score"
   ]
  },
  {
   "cell_type": "markdown",
   "metadata": {},
   "source": [
    "### Subsection 4\n",
    "\n",
    "Perhaps some exploration of the model selection (hyper-parameters) or algorithm selection task. Validation curves, plots showing the variability of perfromance across folds of the cross-validation, etc. If you're doing one, the outcome of the null hypothesis test or parsimony principle check to show how you are selecting the best model."
   ]
  },
  {
   "cell_type": "markdown",
   "metadata": {},
   "source": [
    "# Prediction based on Neural Network (Keras)"
   ]
  },
  {
   "cell_type": "code",
   "execution_count": 18,
   "metadata": {
    "scrolled": true
   },
   "outputs": [
    {
     "name": "stderr",
     "output_type": "stream",
     "text": [
      "Using TensorFlow backend.\n"
     ]
    }
   ],
   "source": [
    "from keras.models import Sequential\n",
    "from keras.layers import Dense, Activation\n",
    "from keras.optimizers import Adam"
   ]
  },
  {
   "cell_type": "code",
   "execution_count": 43,
   "metadata": {
    "scrolled": false
   },
   "outputs": [
    {
     "name": "stdout",
     "output_type": "stream",
     "text": [
      "_________________________________________________________________\n",
      "Layer (type)                 Output Shape              Param #   \n",
      "=================================================================\n",
      "dense_6 (Dense)              (None, 36)                1332      \n",
      "_________________________________________________________________\n",
      "dense_7 (Dense)              (None, 18)                666       \n",
      "_________________________________________________________________\n",
      "dense_8 (Dense)              (None, 9)                 171       \n",
      "_________________________________________________________________\n",
      "dense_9 (Dense)              (None, 6)                 60        \n",
      "_________________________________________________________________\n",
      "dense_10 (Dense)             (None, 1)                 7         \n",
      "=================================================================\n",
      "Total params: 2,236\n",
      "Trainable params: 2,236\n",
      "Non-trainable params: 0\n",
      "_________________________________________________________________\n"
     ]
    }
   ],
   "source": [
    "# 36 features\n",
    "model = Sequential()\n",
    "model.add(Dense(36,activation='relu', input_dim=36))\n",
    "model.add(Dense(18,activation='relu'))\n",
    "model.add(Dense(9,activation='relu'))\n",
    "model.add(Dense(6,activation='relu'))\n",
    "model.add(Dense(1,activation='linear'))\n",
    "\n",
    "model.summary()"
   ]
  },
  {
   "cell_type": "code",
   "execution_count": 44,
   "metadata": {},
   "outputs": [],
   "source": [
    "# define metrics\n",
    "def rmse(y_true, y_pred):\n",
    "    from keras import backend\n",
    "    return backend.sqrt(backend.mean(backend.square(y_pred - y_true), axis=-1))\n",
    "\n",
    "def r2_score(y_true, y_pred):\n",
    "    from keras import backend as K\n",
    "    SS_res =  K.sum(K.square(y_true - y_pred)) \n",
    "    SS_tot = K.sum(K.square(y_true - K.mean(y_true))) \n",
    "    return (1 - SS_res/(SS_tot + K.epsilon()))\n",
    "\n",
    "model.compile(loss='mean_squared_error' , optimizer='adam', metrics=[rmse, r2_score])"
   ]
  },
  {
   "cell_type": "code",
   "execution_count": 45,
   "metadata": {
    "scrolled": true
   },
   "outputs": [
    {
     "name": "stdout",
     "output_type": "stream",
     "text": [
      "Train on 782 samples, validate on 196 samples\n",
      "Epoch 1/200\n",
      "782/782 [==============================] - 0s 255us/step - loss: 38701414143.3453 - rmse: 180984.6103 - r2_score: -5.9324 - val_loss: 38241213628.0816 - val_rmse: 181737.6330 - val_r2_score: -6.4672\n",
      "Epoch 2/200\n",
      "782/782 [==============================] - 0s 21us/step - loss: 38679069436.7263 - rmse: 180928.0836 - r2_score: -5.8514 - val_loss: 38224668463.0204 - val_rmse: 181694.9506 - val_r2_score: -6.4641\n",
      "Epoch 3/200\n",
      "782/782 [==============================] - 0s 20us/step - loss: 38658887428.5831 - rmse: 180877.0298 - r2_score: -5.6015 - val_loss: 38208779326.6939 - val_rmse: 181653.5976 - val_r2_score: -6.4610\n",
      "Epoch 4/200\n",
      "782/782 [==============================] - 0s 20us/step - loss: 38643334277.5652 - rmse: 180837.1752 - r2_score: -5.9491 - val_loss: 38194131612.7347 - val_rmse: 181617.1327 - val_r2_score: -6.4582\n",
      "Epoch 5/200\n",
      "782/782 [==============================] - 0s 20us/step - loss: 38625420112.5320 - rmse: 180792.0722 - r2_score: -5.7816 - val_loss: 38173832421.8775 - val_rmse: 181565.3406 - val_r2_score: -6.4542\n",
      "Epoch 6/200\n",
      "782/782 [==============================] - 0s 21us/step - loss: 38599066563.7647 - rmse: 180726.3452 - r2_score: -5.7675 - val_loss: 38142003325.3878 - val_rmse: 181483.6218 - val_r2_score: -6.4480\n",
      "Epoch 7/200\n",
      "782/782 [==============================] - 0s 23us/step - loss: 38558380005.8107 - rmse: 180624.7401 - r2_score: -6.1643 - val_loss: 38093632491.1020 - val_rmse: 181359.5478 - val_r2_score: -6.4386\n",
      "Epoch 8/200\n",
      "782/782 [==============================] - 0s 23us/step - loss: 38499863371.2941 - rmse: 180477.8444 - r2_score: -6.0186 - val_loss: 38025023237.2245 - val_rmse: 181184.4834 - val_r2_score: -6.4252\n",
      "Epoch 9/200\n",
      "782/782 [==============================] - 0s 22us/step - loss: 38417871162.2711 - rmse: 180273.6813 - r2_score: -5.7410 - val_loss: 37936611829.5510 - val_rmse: 180959.0536 - val_r2_score: -6.4079\n",
      "Epoch 10/200\n",
      "782/782 [==============================] - 0s 25us/step - loss: 38312806321.4322 - rmse: 180010.8829 - r2_score: -5.6141 - val_loss: 37817295683.9184 - val_rmse: 180652.6342 - val_r2_score: -6.3846\n",
      "Epoch 11/200\n",
      "782/782 [==============================] - 0s 22us/step - loss: 38170164635.1714 - rmse: 179650.3581 - r2_score: -5.4662 - val_loss: 37666259361.9592 - val_rmse: 180263.4232 - val_r2_score: -6.3552\n",
      "Epoch 12/200\n",
      "782/782 [==============================] - 0s 22us/step - loss: 37993862942.7724 - rmse: 179201.5211 - r2_score: -5.6186 - val_loss: 37477812432.9796 - val_rmse: 179773.4483 - val_r2_score: -6.3184\n",
      "Epoch 13/200\n",
      "782/782 [==============================] - 0s 29us/step - loss: 37792401926.5473 - rmse: 178686.5574 - r2_score: -5.7123 - val_loss: 37272468751.6735 - val_rmse: 179237.5816 - val_r2_score: -6.2783\n",
      "Epoch 14/200\n",
      "782/782 [==============================] - 0s 33us/step - loss: 37550912965.0742 - rmse: 178060.5234 - r2_score: -5.5539 - val_loss: 37004708968.4898 - val_rmse: 178536.7015 - val_r2_score: -6.2260\n",
      "Epoch 15/200\n",
      "782/782 [==============================] - 0s 21us/step - loss: 37244314343.7749 - rmse: 177264.8350 - r2_score: -5.4171 - val_loss: 36661207708.7347 - val_rmse: 177630.7070 - val_r2_score: -6.1589\n",
      "Epoch 16/200\n",
      "782/782 [==============================] - 0s 20us/step - loss: 36850421052.8900 - rmse: 176234.0176 - r2_score: -5.4205 - val_loss: 36234088782.3673 - val_rmse: 176495.3766 - val_r2_score: -6.0754\n",
      "Epoch 17/200\n",
      "782/782 [==============================] - 0s 25us/step - loss: 36359691994.6803 - rmse: 174931.5323 - r2_score: -5.4227 - val_loss: 35669373345.9592 - val_rmse: 174979.9098 - val_r2_score: -5.9649\n",
      "Epoch 18/200\n",
      "782/782 [==============================] - 0s 20us/step - loss: 35710460207.7954 - rmse: 173184.1948 - r2_score: -5.4415 - val_loss: 34939015335.1837 - val_rmse: 173001.5635 - val_r2_score: -5.8222\n",
      "Epoch 19/200\n",
      "782/782 [==============================] - 0s 21us/step - loss: 34889336093.4629 - rmse: 170927.5692 - r2_score: -5.2277 - val_loss: 34018197754.7755 - val_rmse: 170471.3438 - val_r2_score: -5.6421\n",
      "Epoch 20/200\n",
      "782/782 [==============================] - 0s 21us/step - loss: 33857195560.5934 - rmse: 168088.3040 - r2_score: -4.9576 - val_loss: 32878728923.4286 - val_rmse: 167282.8466 - val_r2_score: -5.4193\n",
      "Epoch 21/200\n",
      "782/782 [==============================] - 0s 21us/step - loss: 32590281002.5575 - rmse: 164451.5653 - r2_score: -4.7457 - val_loss: 31504151740.0816 - val_rmse: 163344.5941 - val_r2_score: -5.1505\n",
      "Epoch 22/200\n",
      "782/782 [==============================] - 0s 20us/step - loss: 31126144767.3453 - rmse: 160071.8562 - r2_score: -4.5761 - val_loss: 29869732843.1020 - val_rmse: 158521.5925 - val_r2_score: -4.8309\n",
      "Epoch 23/200\n",
      "782/782 [==============================] - 0s 20us/step - loss: 29382553238.5882 - rmse: 154774.6893 - r2_score: -4.0368 - val_loss: 27970730987.1020 - val_rmse: 152706.6202 - val_r2_score: -4.4594\n",
      "Epoch 24/200\n",
      "782/782 [==============================] - 0s 20us/step - loss: 27425502734.4041 - rmse: 148698.8449 - r2_score: -3.7325 - val_loss: 25819531264.0000 - val_rmse: 145808.3351 - val_r2_score: -4.0385\n",
      "Epoch 25/200\n",
      "782/782 [==============================] - 0s 21us/step - loss: 25252892805.5652 - rmse: 141729.4244 - r2_score: -3.3226 - val_loss: 23466820085.5510 - val_rmse: 137857.9617 - val_r2_score: -3.5780\n",
      "Epoch 26/200\n",
      "782/782 [==============================] - 0s 20us/step - loss: 23029579126.5064 - rmse: 133988.5518 - r2_score: -3.0422 - val_loss: 21015567297.3061 - val_rmse: 129281.0357 - val_r2_score: -3.0979\n",
      "Epoch 27/200\n",
      "782/782 [==============================] - 0s 20us/step - loss: 20725763074.6189 - rmse: 125313.8113 - r2_score: -2.6036 - val_loss: 18514512582.5306 - val_rmse: 119795.8165 - val_r2_score: -2.6077\n",
      "Epoch 28/200\n",
      "782/782 [==============================] - 0s 20us/step - loss: 18496150507.0486 - rmse: 115733.4322 - r2_score: -2.2592 - val_loss: 15879261246.6939 - val_rmse: 108893.1542 - val_r2_score: -2.0909\n",
      "Epoch 29/200\n",
      "782/782 [==============================] - 0s 27us/step - loss: 16306288925.4629 - rmse: 104956.7117 - r2_score: -1.8238 - val_loss: 13334201406.6939 - val_rmse: 97573.6945 - val_r2_score: -1.5913\n",
      "Epoch 30/200\n",
      "782/782 [==============================] - 0s 20us/step - loss: 14421538077.4629 - rmse: 94197.7071 - r2_score: -1.4645 - val_loss: 11132674695.8367 - val_rmse: 86516.0415 - val_r2_score: -1.1586\n",
      "Epoch 31/200\n",
      "782/782 [==============================] - 0s 20us/step - loss: 12992040444.0716 - rmse: 84130.3330 - r2_score: -1.2122 - val_loss: 9389351246.3673 - val_rmse: 76327.5859 - val_r2_score: -0.8157\n",
      "Epoch 32/200\n",
      "782/782 [==============================] - 0s 20us/step - loss: 12068322297.4527 - rmse: 75676.2687 - r2_score: -1.1983 - val_loss: 8104463861.5510 - val_rmse: 68078.2556 - val_r2_score: -0.5626\n",
      "Epoch 33/200\n",
      "782/782 [==============================] - 0s 20us/step - loss: 11663913644.8491 - rmse: 68680.9369 - r2_score: -1.0391 - val_loss: 7126260965.8776 - val_rmse: 61403.5067 - val_r2_score: -0.3696\n",
      "Epoch 34/200\n",
      "782/782 [==============================] - 0s 20us/step - loss: 11564119954.0051 - rmse: 63358.1733 - r2_score: -1.0723 - val_loss: 6587575797.5510 - val_rmse: 57613.0781 - val_r2_score: -0.2635\n",
      "Epoch 35/200\n",
      "782/782 [==============================] - 0s 20us/step - loss: 11297499312.7775 - rmse: 63033.1844 - r2_score: -0.8775 - val_loss: 7000187674.1224 - val_rmse: 60742.7192 - val_r2_score: -0.3462\n",
      "Epoch 36/200\n",
      "782/782 [==============================] - 0s 20us/step - loss: 10946855294.3632 - rmse: 64529.9151 - r2_score: -0.8777 - val_loss: 7040698660.5714 - val_rmse: 61128.6124 - val_r2_score: -0.3549\n",
      "Epoch 37/200\n",
      "782/782 [==============================] - 0s 20us/step - loss: 10795416926.9361 - rmse: 64510.9445 - r2_score: -0.7908 - val_loss: 6946913363.5918 - val_rmse: 60546.8256 - val_r2_score: -0.3369\n",
      "Epoch 38/200\n",
      "782/782 [==============================] - ETA: 0s - loss: 6511739904.0000 - rmse: 57268.2266 - r2_score: -0.102 - 0s 21us/step - loss: 10597507881.9028 - rmse: 63446.0726 - r2_score: -0.8751 - val_loss: 6708811619.2653 - val_rmse: 58942.1314 - val_r2_score: -0.2905\n",
      "Epoch 39/200\n",
      "782/782 [==============================] - 0s 20us/step - loss: 10399420261.4834 - rmse: 61931.2175 - r2_score: -0.7893 - val_loss: 6476666817.3061 - val_rmse: 57396.7041 - val_r2_score: -0.2451\n",
      "Epoch 40/200\n",
      "782/782 [==============================] - 0s 21us/step - loss: 10206512473.6982 - rmse: 60660.1765 - r2_score: -0.7131 - val_loss: 6294218448.9796 - val_rmse: 56223.4718 - val_r2_score: -0.2096\n",
      "Epoch 41/200\n",
      "782/782 [==============================] - 0s 19us/step - loss: 10051299390.8542 - rmse: 59357.7226 - r2_score: -0.7705 - val_loss: 6056467226.1224 - val_rmse: 54706.9420 - val_r2_score: -0.1631\n",
      "Epoch 42/200\n",
      "782/782 [==============================] - 0s 20us/step - loss: 9871274083.8465 - rmse: 57931.3528 - r2_score: -0.6169 - val_loss: 5852169090.6122 - val_rmse: 53456.6576 - val_r2_score: -0.1233\n",
      "Epoch 43/200\n",
      "782/782 [==============================] - 0s 19us/step - loss: 9704214038.2609 - rmse: 56870.8104 - r2_score: -0.6857 - val_loss: 5692056826.7755 - val_rmse: 52509.4471 - val_r2_score: -0.0922\n",
      "Epoch 44/200\n",
      "782/782 [==============================] - 0s 20us/step - loss: 9551959478.0153 - rmse: 56057.2265 - r2_score: -0.5971 - val_loss: 5580085112.1633 - val_rmse: 51866.9208 - val_r2_score: -0.0705\n",
      "Epoch 45/200\n",
      "782/782 [==============================] - 0s 20us/step - loss: 9406905490.6598 - rmse: 55373.2881 - r2_score: -0.5988 - val_loss: 5445460877.0612 - val_rmse: 51063.7881 - val_r2_score: -0.0444\n",
      "Epoch 46/200\n",
      "782/782 [==============================] - 0s 20us/step - loss: 9276731308.8491 - rmse: 54684.0443 - r2_score: -0.6025 - val_loss: 5330244430.3673 - val_rmse: 50423.5331 - val_r2_score: -0.0222\n",
      "Epoch 47/200\n",
      "782/782 [==============================] - 0s 20us/step - loss: 9164265331.8875 - rmse: 53929.5294 - r2_score: -0.5034 - val_loss: 5170139982.3673 - val_rmse: 49516.4554 - val_r2_score: 0.0090\n",
      "Epoch 48/200\n",
      "782/782 [==============================] - 0s 19us/step - loss: 9007253936.1228 - rmse: 53268.9447 - r2_score: -0.5107 - val_loss: 5086742559.3469 - val_rmse: 49063.6305 - val_r2_score: 0.0250\n",
      "Epoch 49/200\n",
      "782/782 [==============================] - 0s 21us/step - loss: 8881176221.7903 - rmse: 52930.0735 - r2_score: -0.5249 - val_loss: 5038062362.1224 - val_rmse: 48819.4844 - val_r2_score: 0.0341\n",
      "Epoch 50/200\n",
      "782/782 [==============================] - 0s 24us/step - loss: 8735954830.7315 - rmse: 52647.8644 - r2_score: -0.5508 - val_loss: 4965982291.5918 - val_rmse: 48438.1588 - val_r2_score: 0.0479\n",
      "Epoch 51/200\n",
      "782/782 [==============================] - 0s 21us/step - loss: 8603985121.8824 - rmse: 52233.5323 - r2_score: -0.3747 - val_loss: 4889758928.9796 - val_rmse: 48037.3551 - val_r2_score: 0.0625\n",
      "Epoch 52/200\n",
      "782/782 [==============================] - 0s 20us/step - loss: 8492029107.3964 - rmse: 51914.4822 - r2_score: -0.3560 - val_loss: 4837324089.4694 - val_rmse: 47783.1480 - val_r2_score: 0.0724\n",
      "Epoch 53/200\n",
      "782/782 [==============================] - 0s 20us/step - loss: 8356158705.5959 - rmse: 51706.2448 - r2_score: -0.3640 - val_loss: 4803831296.0000 - val_rmse: 47635.4040 - val_r2_score: 0.0786\n",
      "Epoch 54/200\n",
      "782/782 [==============================] - 0s 20us/step - loss: 8229082769.3504 - rmse: 51460.3374 - r2_score: -0.3557 - val_loss: 4749467313.6327 - val_rmse: 47378.5691 - val_r2_score: 0.0889\n",
      "Epoch 55/200\n",
      "782/782 [==============================] - 0s 19us/step - loss: 8113047097.6164 - rmse: 51225.4447 - r2_score: -0.3687 - val_loss: 4698042629.2245 - val_rmse: 47139.7776 - val_r2_score: 0.0987\n",
      "Epoch 56/200\n",
      "782/782 [==============================] - 0s 20us/step - loss: 7991108934.7110 - rmse: 50966.0237 - r2_score: -0.3591 - val_loss: 4651027811.2653 - val_rmse: 46924.0122 - val_r2_score: 0.1076\n",
      "Epoch 57/200\n",
      "782/782 [==============================] - 0s 20us/step - loss: 7870129707.2123 - rmse: 50714.9287 - r2_score: -0.3805 - val_loss: 4592467058.9388 - val_rmse: 46662.0446 - val_r2_score: 0.1187\n",
      "Epoch 58/200\n",
      "782/782 [==============================] - 0s 19us/step - loss: 7772542033.1867 - rmse: 50491.5232 - r2_score: -0.3949 - val_loss: 4542175451.4286 - val_rmse: 46447.2474 - val_r2_score: 0.1282\n",
      "Epoch 59/200\n",
      "782/782 [==============================] - 0s 19us/step - loss: 7629727924.7059 - rmse: 50165.4019 - r2_score: -0.3179 - val_loss: 4455244632.8163 - val_rmse: 46072.6420 - val_r2_score: 0.1450\n",
      "Epoch 60/200\n",
      "782/782 [==============================] - 0s 19us/step - loss: 7525017310.6087 - rmse: 49837.8946 - r2_score: -0.2838 - val_loss: 4381593735.8367 - val_rmse: 45769.4326 - val_r2_score: 0.1591\n",
      "Epoch 61/200\n",
      "782/782 [==============================] - 0s 22us/step - loss: 7424191969.8824 - rmse: 49580.7776 - r2_score: -0.2536 - val_loss: 4342443708.0816 - val_rmse: 45617.7061 - val_r2_score: 0.1664\n",
      "Epoch 62/200\n",
      "782/782 [==============================] - 0s 23us/step - loss: 7296068469.5243 - rmse: 49454.4999 - r2_score: -0.2271 - val_loss: 4356369658.7755 - val_rmse: 45668.9841 - val_r2_score: 0.1634\n",
      "Epoch 63/200\n",
      "782/782 [==============================] - 0s 19us/step - loss: 7194322134.7519 - rmse: 49364.0848 - r2_score: -0.3868 - val_loss: 4329698283.1020 - val_rmse: 45563.4345 - val_r2_score: 0.1684\n",
      "Epoch 64/200\n",
      "782/782 [==============================] - 0s 20us/step - loss: 7087812044.9309 - rmse: 49188.5919 - r2_score: -0.2037 - val_loss: 4277418266.1224 - val_rmse: 45363.9318 - val_r2_score: 0.1784\n",
      "Epoch 65/200\n",
      "782/782 [==============================] - 0s 23us/step - loss: 7004056885.0332 - rmse: 49006.9370 - r2_score: -0.1873 - val_loss: 4227859163.4286 - val_rmse: 45172.3002 - val_r2_score: 0.1878\n",
      "Epoch 66/200\n",
      "782/782 [==============================] - 0s 21us/step - loss: 6880956734.1995 - rmse: 48772.3784 - r2_score: -0.2008 - val_loss: 4140572107.7551 - val_rmse: 44855.4619 - val_r2_score: 0.2045\n",
      "Epoch 67/200\n",
      "782/782 [==============================] - 0s 20us/step - loss: 6782662441.2481 - rmse: 48523.7310 - r2_score: -0.2199 - val_loss: 4095297076.2449 - val_rmse: 44706.4457 - val_r2_score: 0.2131\n",
      "Epoch 68/200\n",
      "782/782 [==============================] - 0s 21us/step - loss: 6678235809.0639 - rmse: 48453.1629 - r2_score: -0.2091 - val_loss: 4167868280.1633 - val_rmse: 44918.8748 - val_r2_score: 0.1987\n",
      "Epoch 69/200\n",
      "782/782 [==============================] - 0s 20us/step - loss: 6533543611.2532 - rmse: 48401.4658 - r2_score: -0.1474 - val_loss: 4144942090.4490 - val_rmse: 44821.4259 - val_r2_score: 0.2029\n",
      "Epoch 70/200\n",
      "782/782 [==============================] - 0s 21us/step - loss: 6431167216.9412 - rmse: 48188.3716 - r2_score: -0.1064 - val_loss: 4066813983.3469 - val_rmse: 44552.4147 - val_r2_score: 0.2179\n",
      "Epoch 71/200\n",
      "782/782 [==============================] - 0s 22us/step - loss: 6333831859.0691 - rmse: 47974.0158 - r2_score: -0.0406 - val_loss: 4004123919.6735 - val_rmse: 44358.8567 - val_r2_score: 0.2299\n",
      "Epoch 72/200\n",
      "782/782 [==============================] - 0s 20us/step - loss: 6252113783.8159 - rmse: 47822.0954 - r2_score: -0.0586 - val_loss: 3953779001.4694 - val_rmse: 44220.6134 - val_r2_score: 0.2395\n",
      "Epoch 73/200\n",
      "782/782 [==============================] - 0s 21us/step - loss: 6165289430.0972 - rmse: 47690.7632 - r2_score: -0.0303 - val_loss: 3895966396.0816 - val_rmse: 44081.6934 - val_r2_score: 0.2506\n",
      "Epoch 74/200\n",
      "782/782 [==============================] - 0s 20us/step - loss: 6089029461.7698 - rmse: 47543.6811 - r2_score: -0.1185 - val_loss: 3840162941.3878 - val_rmse: 43955.2997 - val_r2_score: 0.2613\n",
      "Epoch 75/200\n",
      "782/782 [==============================] - 0s 20us/step - loss: 6003352085.6061 - rmse: 47431.7483 - r2_score: -0.0180 - val_loss: 3799466652.7347 - val_rmse: 43849.9639 - val_r2_score: 0.2690\n",
      "Epoch 76/200\n",
      "782/782 [==============================] - 0s 19us/step - loss: 5937801446.1381 - rmse: 47338.3606 - r2_score: 0.0381 - val_loss: 3768666320.9796 - val_rmse: 43762.4125 - val_r2_score: 0.2748\n",
      "Epoch 77/200\n",
      "782/782 [==============================] - 0s 21us/step - loss: 5860235410.6598 - rmse: 47242.3644 - r2_score: -0.0076 - val_loss: 3759384910.3673 - val_rmse: 43701.8261 - val_r2_score: 0.2765\n",
      "Epoch 78/200\n",
      "782/782 [==============================] - 0s 20us/step - loss: 5791239152.9412 - rmse: 47171.2766 - r2_score: 0.0107 - val_loss: 3833941451.7551 - val_rmse: 43746.7667 - val_r2_score: 0.2620\n",
      "Epoch 79/200\n",
      "782/782 [==============================] - 0s 20us/step - loss: 5669748611.9284 - rmse: 47008.4356 - r2_score: 0.0277 - val_loss: 3832749411.2653 - val_rmse: 43693.3935 - val_r2_score: 0.2621\n",
      "Epoch 80/200\n",
      "782/782 [==============================] - 0s 19us/step - loss: 5608979740.1535 - rmse: 46936.9350 - r2_score: 0.0544 - val_loss: 3810523052.4082 - val_rmse: 43607.7825 - val_r2_score: 0.2663\n",
      "Epoch 81/200\n",
      "782/782 [==============================] - 0s 20us/step - loss: 5531831889.1867 - rmse: 46802.9003 - r2_score: 0.0882 - val_loss: 3753955829.5510 - val_rmse: 43477.0134 - val_r2_score: 0.2771\n",
      "Epoch 82/200\n",
      "782/782 [==============================] - 0s 20us/step - loss: 5458396474.9258 - rmse: 46699.5999 - r2_score: 0.0662 - val_loss: 3694860183.5102 - val_rmse: 43348.9838 - val_r2_score: 0.2884\n",
      "Epoch 83/200\n",
      "782/782 [==============================] - 0s 20us/step - loss: 5382397050.7621 - rmse: 46610.4583 - r2_score: 0.0637 - val_loss: 3643820157.3878 - val_rmse: 43244.0810 - val_r2_score: 0.2981\n",
      "Epoch 84/200\n",
      "782/782 [==============================] - 0s 20us/step - loss: 5319950916.7468 - rmse: 46535.7585 - r2_score: 0.1120 - val_loss: 3596792623.0204 - val_rmse: 43168.7687 - val_r2_score: 0.3071\n",
      "Epoch 85/200\n",
      "782/782 [==============================] - 0s 20us/step - loss: 5257776283.8261 - rmse: 46512.9353 - r2_score: 0.0950 - val_loss: 3555714189.0612 - val_rmse: 43133.9112 - val_r2_score: 0.3149\n",
      "Epoch 86/200\n",
      "782/782 [==============================] - 0s 20us/step - loss: 5202273176.5524 - rmse: 46459.1309 - r2_score: 0.1374 - val_loss: 3555676092.0816 - val_rmse: 43052.3594 - val_r2_score: 0.3149\n",
      "Epoch 87/200\n",
      "782/782 [==============================] - 0s 20us/step - loss: 5131195256.7980 - rmse: 46346.0706 - r2_score: 0.1330 - val_loss: 3530510059.1020 - val_rmse: 43008.9176 - val_r2_score: 0.3196\n",
      "Epoch 88/200\n",
      "782/782 [==============================] - 0s 20us/step - loss: 5077197495.3248 - rmse: 46301.8386 - r2_score: 0.1534 - val_loss: 3511031316.8980 - val_rmse: 42967.4080 - val_r2_score: 0.3233\n",
      "Epoch 89/200\n",
      "782/782 [==============================] - 0s 20us/step - loss: 5026377539.1100 - rmse: 46272.2242 - r2_score: 0.1338 - val_loss: 3485116196.5714 - val_rmse: 42939.0813 - val_r2_score: 0.3282\n",
      "Epoch 90/200\n",
      "782/782 [==============================] - 0s 20us/step - loss: 4975846958.1586 - rmse: 46228.7663 - r2_score: 0.1245 - val_loss: 3469454571.1020 - val_rmse: 42897.2199 - val_r2_score: 0.3312\n",
      "Epoch 91/200\n",
      "782/782 [==============================] - 0s 21us/step - loss: 4928768137.4936 - rmse: 46162.5262 - r2_score: 0.1577 - val_loss: 3457324726.8571 - val_rmse: 42850.4366 - val_r2_score: 0.3335\n",
      "Epoch 92/200\n",
      "782/782 [==============================] - 0s 20us/step - loss: 4880870805.9335 - rmse: 46090.9283 - r2_score: 0.1418 - val_loss: 3443726842.7755 - val_rmse: 42809.0615 - val_r2_score: 0.3360\n",
      "Epoch 93/200\n",
      "782/782 [==============================] - 0s 21us/step - loss: 4835536801.7187 - rmse: 46057.9944 - r2_score: 0.1930 - val_loss: 3420741987.2653 - val_rmse: 42792.5210 - val_r2_score: 0.3404\n",
      "Epoch 94/200\n",
      "782/782 [==============================] - 0s 21us/step - loss: 4785516477.8721 - rmse: 46057.6002 - r2_score: 0.1868 - val_loss: 3398912768.0000 - val_rmse: 42791.2141 - val_r2_score: 0.3445\n",
      "Epoch 95/200\n",
      "782/782 [==============================] - 0s 20us/step - loss: 4751526399.3453 - rmse: 46057.6321 - r2_score: 0.1835 - val_loss: 3381487950.3673 - val_rmse: 42776.2274 - val_r2_score: 0.3478\n",
      "Epoch 96/200\n",
      "782/782 [==============================] - 0s 20us/step - loss: 4708672887.8159 - rmse: 46004.4119 - r2_score: 0.2043 - val_loss: 3372586814.6939 - val_rmse: 42715.3167 - val_r2_score: 0.3495\n",
      "Epoch 97/200\n",
      "782/782 [==============================] - 0s 21us/step - loss: 4677294377.2481 - rmse: 45917.7873 - r2_score: 0.1861 - val_loss: 3360417771.1020 - val_rmse: 42656.6767 - val_r2_score: 0.3518\n",
      "Epoch 98/200\n",
      "782/782 [==============================] - 0s 22us/step - loss: 4625917324.1125 - rmse: 45904.4792 - r2_score: 0.2270 - val_loss: 3339197769.1429 - val_rmse: 42673.8215 - val_r2_score: 0.3558\n",
      "Epoch 99/200\n",
      "782/782 [==============================] - 0s 21us/step - loss: 4594181101.3402 - rmse: 45891.5069 - r2_score: 0.2100 - val_loss: 3328649534.6939 - val_rmse: 42619.5498 - val_r2_score: 0.3578\n",
      "Epoch 100/200\n",
      "782/782 [==============================] - 0s 22us/step - loss: 4548584427.0486 - rmse: 45819.2949 - r2_score: 0.2189 - val_loss: 3319164102.5306 - val_rmse: 42555.6755 - val_r2_score: 0.3597\n",
      "Epoch 101/200\n",
      "782/782 [==============================] - 0s 21us/step - loss: 4509229138.4962 - rmse: 45742.7138 - r2_score: 0.2404 - val_loss: 3306963236.5714 - val_rmse: 42533.7549 - val_r2_score: 0.3620\n",
      "Epoch 102/200\n",
      "782/782 [==============================] - 0s 20us/step - loss: 4474214190.4859 - rmse: 45729.1892 - r2_score: 0.2369 - val_loss: 3291353772.4082 - val_rmse: 42508.2188 - val_r2_score: 0.3650\n",
      "Epoch 103/200\n",
      "782/782 [==============================] - 0s 20us/step - loss: 4422992198.0563 - rmse: 45645.3659 - r2_score: 0.2428 - val_loss: 3277739598.3673 - val_rmse: 42462.1048 - val_r2_score: 0.3676\n",
      "Epoch 104/200\n",
      "782/782 [==============================] - 0s 20us/step - loss: 4384361920.4910 - rmse: 45565.0589 - r2_score: 0.2705 - val_loss: 3266574268.0816 - val_rmse: 42329.9892 - val_r2_score: 0.3698\n",
      "Epoch 105/200\n",
      "782/782 [==============================] - 0s 20us/step - loss: 4341373574.2199 - rmse: 45322.8619 - r2_score: 0.2613 - val_loss: 3267931000.1633 - val_rmse: 42055.5601 - val_r2_score: 0.3699\n",
      "Epoch 106/200\n",
      "782/782 [==============================] - 0s 20us/step - loss: 4297165020.9719 - rmse: 45068.7801 - r2_score: 0.2497 - val_loss: 3259458998.8571 - val_rmse: 41932.1473 - val_r2_score: 0.3716\n",
      "Epoch 107/200\n",
      "782/782 [==============================] - 0s 21us/step - loss: 4274826888.8389 - rmse: 44908.2463 - r2_score: 0.3012 - val_loss: 3251572229.2245 - val_rmse: 41822.0027 - val_r2_score: 0.3732\n",
      "Epoch 108/200\n",
      "782/782 [==============================] - 0s 21us/step - loss: 4210514525.6266 - rmse: 44823.3059 - r2_score: 0.2843 - val_loss: 3222362822.5306 - val_rmse: 41866.5006 - val_r2_score: 0.3787\n",
      "Epoch 109/200\n",
      "782/782 [==============================] - 0s 21us/step - loss: 4169329198.4859 - rmse: 44867.1472 - r2_score: 0.2900 - val_loss: 3197096975.6735 - val_rmse: 41845.1059 - val_r2_score: 0.3835\n",
      "Epoch 110/200\n",
      "782/782 [==============================] - 0s 20us/step - loss: 4137845928.9207 - rmse: 44806.6518 - r2_score: 0.2962 - val_loss: 3179569549.0612 - val_rmse: 41755.2160 - val_r2_score: 0.3869\n",
      "Epoch 111/200\n",
      "782/782 [==============================] - 0s 21us/step - loss: 4087409976.3069 - rmse: 44753.9822 - r2_score: 0.2996 - val_loss: 3158269361.6327 - val_rmse: 41744.1056 - val_r2_score: 0.3910\n",
      "Epoch 112/200\n",
      "782/782 [==============================] - 0s 21us/step - loss: 4053850880.6547 - rmse: 44712.2265 - r2_score: 0.3059 - val_loss: 3143926752.6531 - val_rmse: 41667.0567 - val_r2_score: 0.3938\n",
      "Epoch 113/200\n",
      "782/782 [==============================] - 0s 22us/step - loss: 4010923910.8747 - rmse: 44602.1317 - r2_score: 0.3221 - val_loss: 3130964020.2449 - val_rmse: 41551.4271 - val_r2_score: 0.3964\n",
      "Epoch 114/200\n",
      "782/782 [==============================] - 0s 20us/step - loss: 3971016422.4655 - rmse: 44472.5858 - r2_score: 0.3339 - val_loss: 3114493878.8571 - val_rmse: 41457.8931 - val_r2_score: 0.3996\n",
      "Epoch 115/200\n",
      "782/782 [==============================] - 0s 21us/step - loss: 3937626051.7647 - rmse: 44433.2375 - r2_score: 0.3299 - val_loss: 3093047891.5918 - val_rmse: 41448.3025 - val_r2_score: 0.4037\n",
      "Epoch 116/200\n",
      "782/782 [==============================] - 0s 21us/step - loss: 3902805752.1432 - rmse: 44413.3011 - r2_score: 0.3053 - val_loss: 3081688670.0408 - val_rmse: 41301.9932 - val_r2_score: 0.4060\n",
      "Epoch 117/200\n",
      "782/782 [==============================] - 0s 21us/step - loss: 3867510374.1381 - rmse: 44025.7794 - r2_score: 0.3434 - val_loss: 3090573709.0612 - val_rmse: 40882.0763 - val_r2_score: 0.4049\n",
      "Epoch 118/200\n",
      "782/782 [==============================] - 0s 20us/step - loss: 3837676246.7519 - rmse: 43612.5377 - r2_score: 0.3450 - val_loss: 3084712186.7755 - val_rmse: 40682.5484 - val_r2_score: 0.4063\n",
      "Epoch 119/200\n",
      "782/782 [==============================] - 0s 22us/step - loss: 3809623184.0409 - rmse: 43401.9045 - r2_score: 0.3550 - val_loss: 3063935414.8571 - val_rmse: 40654.8497 - val_r2_score: 0.4102\n",
      "Epoch 120/200\n",
      "782/782 [==============================] - 0s 24us/step - loss: 3793198967.1611 - rmse: 43758.9501 - r2_score: 0.3534 - val_loss: 3018135081.7959 - val_rmse: 41144.1027 - val_r2_score: 0.4182\n",
      "Epoch 121/200\n",
      "782/782 [==============================] - 0s 25us/step - loss: 3763235074.9463 - rmse: 44077.3827 - r2_score: 0.3573 - val_loss: 3005879860.2449 - val_rmse: 41017.0913 - val_r2_score: 0.4207\n",
      "Epoch 122/200\n",
      "782/782 [==============================] - 0s 26us/step - loss: 3733430625.5550 - rmse: 43869.6950 - r2_score: 0.3624 - val_loss: 2992174748.7347 - val_rmse: 40876.3876 - val_r2_score: 0.4235\n",
      "Epoch 123/200\n",
      "782/782 [==============================] - 0s 27us/step - loss: 3717396028.5627 - rmse: 43939.8613 - r2_score: 0.3690 - val_loss: 2969408903.8367 - val_rmse: 41026.7919 - val_r2_score: 0.4276\n",
      "Epoch 124/200\n",
      "782/782 [==============================] - 0s 25us/step - loss: 3695197132.9309 - rmse: 43931.0883 - r2_score: 0.3769 - val_loss: 2955734992.9796 - val_rmse: 40762.6242 - val_r2_score: 0.4305\n",
      "Epoch 125/200\n",
      "782/782 [==============================] - 0s 21us/step - loss: 3666874136.8798 - rmse: 43625.3435 - r2_score: 0.3800 - val_loss: 2944626546.9388 - val_rmse: 40509.1178 - val_r2_score: 0.4329\n",
      "Epoch 126/200\n",
      "782/782 [==============================] - 0s 20us/step - loss: 3641664946.0870 - rmse: 43287.8269 - r2_score: 0.3832 - val_loss: 2936752833.3061 - val_rmse: 40199.5435 - val_r2_score: 0.4348\n",
      "Epoch 127/200\n",
      "782/782 [==============================] - 0s 22us/step - loss: 3622064448.1637 - rmse: 43037.0945 - r2_score: 0.3867 - val_loss: 2925605778.2857 - val_rmse: 40007.7886 - val_r2_score: 0.4372\n",
      "Epoch 128/200\n",
      "782/782 [==============================] - 0s 20us/step - loss: 3595636059.0077 - rmse: 42779.2102 - r2_score: 0.3970 - val_loss: 2918980984.1633 - val_rmse: 39753.0835 - val_r2_score: 0.4388\n",
      "Epoch 129/200\n",
      "782/782 [==============================] - 0s 20us/step - loss: 3576306320.6957 - rmse: 42487.1598 - r2_score: 0.3943 - val_loss: 2908512741.8776 - val_rmse: 39556.9008 - val_r2_score: 0.4410\n",
      "Epoch 130/200\n",
      "782/782 [==============================] - 0s 21us/step - loss: 3551786464.5729 - rmse: 42314.4564 - r2_score: 0.3972 - val_loss: 2888956321.9592 - val_rmse: 39395.5535 - val_r2_score: 0.4449\n",
      "Epoch 131/200\n",
      "782/782 [==============================] - 0s 25us/step - loss: 3531323804.8082 - rmse: 42336.0365 - r2_score: 0.3946 - val_loss: 2864431041.3061 - val_rmse: 39360.8669 - val_r2_score: 0.4495\n",
      "Epoch 132/200\n",
      "782/782 [==============================] - 0s 25us/step - loss: 3505810019.1918 - rmse: 42044.9955 - r2_score: 0.4037 - val_loss: 2860759128.8163 - val_rmse: 39010.1153 - val_r2_score: 0.4507\n",
      "Epoch 133/200\n",
      "782/782 [==============================] - 0s 22us/step - loss: 3495969783.4885 - rmse: 41667.0888 - r2_score: 0.4039 - val_loss: 2843952431.0204 - val_rmse: 38855.2396 - val_r2_score: 0.4540\n",
      "Epoch 134/200\n",
      "782/782 [==============================] - 0s 21us/step - loss: 3466581226.3939 - rmse: 41715.7063 - r2_score: 0.4102 - val_loss: 2811323888.3265 - val_rmse: 39062.3995 - val_r2_score: 0.4598\n",
      "Epoch 135/200\n",
      "782/782 [==============================] - 0s 23us/step - loss: 3447236431.8772 - rmse: 42015.4216 - r2_score: 0.4198 - val_loss: 2784147753.7959 - val_rmse: 39214.2349 - val_r2_score: 0.4647\n",
      "Epoch 136/200\n",
      "782/782 [==============================] - 0s 22us/step - loss: 3426645126.2199 - rmse: 42039.0043 - r2_score: 0.4190 - val_loss: 2763703468.4082 - val_rmse: 39115.9597 - val_r2_score: 0.4687\n",
      "Epoch 137/200\n",
      "782/782 [==============================] - 0s 22us/step - loss: 3411798705.4322 - rmse: 42118.6826 - r2_score: 0.4148 - val_loss: 2741952512.0000 - val_rmse: 38997.4267 - val_r2_score: 0.4729\n",
      "Epoch 138/200\n",
      "782/782 [==============================] - 0s 23us/step - loss: 3386268501.7698 - rmse: 41420.7918 - r2_score: 0.4290 - val_loss: 2757053821.3878 - val_rmse: 38003.6458 - val_r2_score: 0.4712\n",
      "Epoch 139/200\n",
      "782/782 [==============================] - 0s 25us/step - loss: 3377197143.7340 - rmse: 40574.3833 - r2_score: 0.4274 - val_loss: 2753137413.2245 - val_rmse: 37694.9600 - val_r2_score: 0.4723\n",
      "Epoch 140/200\n",
      "782/782 [==============================] - 0s 25us/step - loss: 3361089956.9923 - rmse: 40563.5032 - r2_score: 0.4335 - val_loss: 2708978332.7347 - val_rmse: 37812.6084 - val_r2_score: 0.4804\n",
      "Epoch 141/200\n",
      "782/782 [==============================] - 0s 24us/step - loss: 3324281560.7161 - rmse: 40646.9171 - r2_score: 0.4428 - val_loss: 2676803913.1429 - val_rmse: 37975.4310 - val_r2_score: 0.4863\n",
      "Epoch 142/200\n",
      "782/782 [==============================] - 0s 24us/step - loss: 3307988552.0205 - rmse: 41091.1518 - r2_score: 0.4381 - val_loss: 2656288261.2245 - val_rmse: 38425.4816 - val_r2_score: 0.4895\n",
      "Epoch 143/200\n",
      "782/782 [==============================] - 0s 22us/step - loss: 3302324954.0256 - rmse: 41394.9403 - r2_score: 0.4379 - val_loss: 2625797600.6531 - val_rmse: 38427.1963 - val_r2_score: 0.4952\n",
      "Epoch 144/200\n",
      "782/782 [==============================] - 0s 22us/step - loss: 3267611699.0691 - rmse: 41037.1398 - r2_score: 0.4439 - val_loss: 2603180726.8571 - val_rmse: 37822.2951 - val_r2_score: 0.5000\n",
      "Epoch 145/200\n",
      "782/782 [==============================] - 0s 22us/step - loss: 3237259037.4629 - rmse: 40530.4998 - r2_score: 0.4535 - val_loss: 2580682553.4694 - val_rmse: 37442.1184 - val_r2_score: 0.5046\n",
      "Epoch 146/200\n",
      "782/782 [==============================] - 0s 22us/step - loss: 3223465049.0435 - rmse: 39925.8298 - r2_score: 0.4596 - val_loss: 2592546413.7143 - val_rmse: 36586.1677 - val_r2_score: 0.5035\n",
      "Epoch 147/200\n",
      "782/782 [==============================] - 0s 22us/step - loss: 3189426972.4808 - rmse: 39186.7448 - r2_score: 0.4666 - val_loss: 2553039986.9388 - val_rmse: 35583.8668 - val_r2_score: 0.5125\n",
      "Epoch 148/200\n",
      "782/782 [==============================] - 0s 26us/step - loss: 3130848539.4987 - rmse: 38579.9035 - r2_score: 0.4706 - val_loss: 2486019004.0816 - val_rmse: 36619.3221 - val_r2_score: 0.5235\n",
      "Epoch 149/200\n",
      "782/782 [==============================] - 0s 23us/step - loss: 3107769159.3657 - rmse: 39686.9340 - r2_score: 0.4750 - val_loss: 2463401743.6735 - val_rmse: 35620.4128 - val_r2_score: 0.5291\n",
      "Epoch 150/200\n",
      "782/782 [==============================] - 0s 25us/step - loss: 3102298114.6189 - rmse: 38134.1904 - r2_score: 0.4860 - val_loss: 2464922503.8367 - val_rmse: 35213.2278 - val_r2_score: 0.5293\n",
      "Epoch 151/200\n",
      "782/782 [==============================] - 0s 23us/step - loss: 3081194721.8824 - rmse: 39349.4790 - r2_score: 0.4797 - val_loss: 2409252383.3469 - val_rmse: 37095.9569 - val_r2_score: 0.5371\n",
      "Epoch 152/200\n",
      "782/782 [==============================] - 0s 23us/step - loss: 3028840148.4604 - rmse: 38916.0070 - r2_score: 0.4857 - val_loss: 2390910411.7551 - val_rmse: 34817.3946 - val_r2_score: 0.5433\n",
      "Epoch 153/200\n",
      "782/782 [==============================] - 0s 22us/step - loss: 3012557422.9770 - rmse: 37396.8850 - r2_score: 0.4944 - val_loss: 2381053988.5714 - val_rmse: 34434.1169 - val_r2_score: 0.5456\n",
      "Epoch 154/200\n",
      "782/782 [==============================] - ETA: 0s - loss: 2988205056.0000 - rmse: 37237.4102 - r2_score: 0.55 - 0s 22us/step - loss: 2980340422.7110 - rmse: 37469.3342 - r2_score: 0.4973 - val_loss: 2311567777.9592 - val_rmse: 34835.0310 - val_r2_score: 0.5580\n",
      "Epoch 155/200\n",
      "782/782 [==============================] - 0s 37us/step - loss: 2933144091.4987 - rmse: 37364.6627 - r2_score: 0.5050 - val_loss: 2291914276.5714 - val_rmse: 34318.0128 - val_r2_score: 0.5624\n",
      "Epoch 156/200\n",
      "782/782 [==============================] - 0s 41us/step - loss: 2904996879.7136 - rmse: 37293.7898 - r2_score: 0.5111 - val_loss: 2257357103.0204 - val_rmse: 34831.5529 - val_r2_score: 0.5682\n",
      "Epoch 157/200\n",
      "782/782 [==============================] - 0s 25us/step - loss: 2926573556.8696 - rmse: 38188.4760 - r2_score: 0.4980 - val_loss: 2227234152.4898 - val_rmse: 34326.9331 - val_r2_score: 0.5746\n",
      "Epoch 158/200\n",
      "782/782 [==============================] - 0s 22us/step - loss: 2873571893.6880 - rmse: 36576.4867 - r2_score: 0.5199 - val_loss: 2276451369.7959 - val_rmse: 33148.0970 - val_r2_score: 0.5670\n",
      "Epoch 159/200\n",
      "782/782 [==============================] - 0s 22us/step - loss: 2859424663.8977 - rmse: 36020.8776 - r2_score: 0.5212 - val_loss: 2180697202.9388 - val_rmse: 33519.9293 - val_r2_score: 0.5843\n",
      "Epoch 160/200\n",
      "782/782 [==============================] - 0s 25us/step - loss: 2830874157.8312 - rmse: 37041.5390 - r2_score: 0.5234 - val_loss: 2152227516.0816 - val_rmse: 33786.9929 - val_r2_score: 0.5891\n",
      "Epoch 161/200\n",
      "782/782 [==============================] - 0s 23us/step - loss: 2787588849.5959 - rmse: 36443.8206 - r2_score: 0.5394 - val_loss: 2152655135.3469 - val_rmse: 32687.1044 - val_r2_score: 0.5906\n",
      "Epoch 162/200\n",
      "782/782 [==============================] - 0s 21us/step - loss: 2781804487.3657 - rmse: 35467.0244 - r2_score: 0.5236 - val_loss: 2127402004.8980 - val_rmse: 32410.8054 - val_r2_score: 0.5956\n",
      "Epoch 163/200\n",
      "782/782 [==============================] - 0s 23us/step - loss: 2752295213.1765 - rmse: 35686.0924 - r2_score: 0.5353 - val_loss: 2081336962.6122 - val_rmse: 32945.7287 - val_r2_score: 0.6032\n",
      "Epoch 164/200\n",
      "782/782 [==============================] - 0s 28us/step - loss: 2740224466.1688 - rmse: 36059.6755 - r2_score: 0.5333 - val_loss: 2057649731.9184 - val_rmse: 32519.9474 - val_r2_score: 0.6081\n",
      "Epoch 165/200\n",
      "782/782 [==============================] - ETA: 0s - loss: 2930788096.0000 - rmse: 36784.2188 - r2_score: 0.57 - 0s 21us/step - loss: 2705872970.6394 - rmse: 35186.1307 - r2_score: 0.5443 - val_loss: 2049576829.3878 - val_rmse: 31968.2601 - val_r2_score: 0.6103\n",
      "Epoch 166/200\n",
      "782/782 [==============================] - 0s 22us/step - loss: 2690621369.2890 - rmse: 34755.7191 - r2_score: 0.5510 - val_loss: 2010543140.5714 - val_rmse: 32264.6427 - val_r2_score: 0.6172\n",
      "Epoch 167/200\n",
      "782/782 [==============================] - 0s 22us/step - loss: 2688694675.9693 - rmse: 35460.8189 - r2_score: 0.5426 - val_loss: 1985537990.5306 - val_rmse: 32433.9509 - val_r2_score: 0.6217\n",
      "Epoch 168/200\n",
      "782/782 [==============================] - 0s 23us/step - loss: 2664499196.7263 - rmse: 34762.2091 - r2_score: 0.5475 - val_loss: 1991709283.2653 - val_rmse: 31366.5593 - val_r2_score: 0.6222\n",
      "Epoch 169/200\n",
      "782/782 [==============================] - 0s 23us/step - loss: 2644637729.0639 - rmse: 34941.3158 - r2_score: 0.5428 - val_loss: 1944247311.6735 - val_rmse: 32146.4417 - val_r2_score: 0.6298\n",
      "Epoch 170/200\n",
      "782/782 [==============================] - 0s 23us/step - loss: 2609512523.9488 - rmse: 34592.4323 - r2_score: 0.5579 - val_loss: 1943001835.1020 - val_rmse: 30933.9860 - val_r2_score: 0.6319\n",
      "Epoch 171/200\n",
      "782/782 [==============================] - 0s 22us/step - loss: 2589914220.3581 - rmse: 34308.4124 - r2_score: 0.5665 - val_loss: 1901020447.3469 - val_rmse: 31514.0462 - val_r2_score: 0.6387\n",
      "Epoch 172/200\n",
      "782/782 [==============================] - 0s 22us/step - loss: 2568503546.4348 - rmse: 34039.0014 - r2_score: 0.5762 - val_loss: 1903478230.2041 - val_rmse: 30449.6325 - val_r2_score: 0.6399\n",
      "Epoch 173/200\n",
      "782/782 [==============================] - 0s 26us/step - loss: 2555274647.8977 - rmse: 33707.9756 - r2_score: 0.5680 - val_loss: 1869316064.6531 - val_rmse: 30475.4651 - val_r2_score: 0.6462\n",
      "Epoch 174/200\n",
      "782/782 [==============================] - 0s 26us/step - loss: 2532627053.0946 - rmse: 33514.3403 - r2_score: 0.5697 - val_loss: 1861037129.1429 - val_rmse: 30228.5939 - val_r2_score: 0.6481\n",
      "Epoch 175/200\n",
      "782/782 [==============================] - 0s 25us/step - loss: 2523609648.9412 - rmse: 33311.5827 - r2_score: 0.5764 - val_loss: 1843644771.2653 - val_rmse: 30105.5200 - val_r2_score: 0.6516\n",
      "Epoch 176/200\n",
      "782/782 [==============================] - 0s 23us/step - loss: 2527653526.4246 - rmse: 33755.4841 - r2_score: 0.5734 - val_loss: 1816911506.2857 - val_rmse: 30445.0499 - val_r2_score: 0.6560\n",
      "Epoch 177/200\n",
      "782/782 [==============================] - 0s 22us/step - loss: 2498516369.3504 - rmse: 33238.5335 - r2_score: 0.5766 - val_loss: 1827200747.1020 - val_rmse: 29868.4759 - val_r2_score: 0.6550\n",
      "Epoch 178/200\n",
      "782/782 [==============================] - 0s 23us/step - loss: 2490218228.8696 - rmse: 33112.1051 - r2_score: 0.5781 - val_loss: 1790328784.9796 - val_rmse: 30065.8514 - val_r2_score: 0.6614\n",
      "Epoch 179/200\n",
      "782/782 [==============================] - 0s 25us/step - loss: 2480597675.5396 - rmse: 33140.9141 - r2_score: 0.5724 - val_loss: 1795411027.5918 - val_rmse: 29556.8578 - val_r2_score: 0.6613\n",
      "Epoch 180/200\n",
      "782/782 [==============================] - 0s 23us/step - loss: 2480748225.1458 - rmse: 32752.0645 - r2_score: 0.5908 - val_loss: 1774770787.2653 - val_rmse: 29422.6036 - val_r2_score: 0.6652\n",
      "Epoch 181/200\n",
      "782/782 [==============================] - 0s 23us/step - loss: 2463875903.8363 - rmse: 32980.4055 - r2_score: 0.5820 - val_loss: 1745498326.2041 - val_rmse: 29973.8574 - val_r2_score: 0.6695\n",
      "Epoch 182/200\n",
      "782/782 [==============================] - 0s 23us/step - loss: 2459303966.7724 - rmse: 32794.8516 - r2_score: 0.5718 - val_loss: 1769827176.4898 - val_rmse: 29023.6067 - val_r2_score: 0.6668\n",
      "Epoch 183/200\n",
      "782/782 [==============================] - 0s 25us/step - loss: 2441950195.5601 - rmse: 32533.2974 - r2_score: 0.5864 - val_loss: 1720428523.1020 - val_rmse: 29315.8004 - val_r2_score: 0.6752\n",
      "Epoch 184/200\n",
      "782/782 [==============================] - 0s 23us/step - loss: 2434666309.4015 - rmse: 32700.3707 - r2_score: 0.5704 - val_loss: 1716576047.0204 - val_rmse: 29051.3079 - val_r2_score: 0.6765\n",
      "Epoch 185/200\n",
      "782/782 [==============================] - 0s 25us/step - loss: 2424210238.5269 - rmse: 32684.3327 - r2_score: 0.6028 - val_loss: 1702236713.7959 - val_rmse: 29046.1582 - val_r2_score: 0.6791\n",
      "Epoch 186/200\n",
      "782/782 [==============================] - 0s 22us/step - loss: 2420529078.3427 - rmse: 32621.4337 - r2_score: 0.5827 - val_loss: 1699968794.1224 - val_rmse: 28709.1574 - val_r2_score: 0.6802\n",
      "Epoch 187/200\n",
      "782/782 [==============================] - 0s 21us/step - loss: 2406886186.5575 - rmse: 32330.9058 - r2_score: 0.5957 - val_loss: 1696413816.1633 - val_rmse: 28560.4644 - val_r2_score: 0.6811\n",
      "Epoch 188/200\n",
      "782/782 [==============================] - 0s 22us/step - loss: 2403148025.4527 - rmse: 32234.4846 - r2_score: 0.5822 - val_loss: 1674969918.6939 - val_rmse: 28633.3645 - val_r2_score: 0.6849\n",
      "Epoch 189/200\n",
      "782/782 [==============================] - 0s 22us/step - loss: 2409523792.5320 - rmse: 32650.4264 - r2_score: 0.5895 - val_loss: 1664636018.9388 - val_rmse: 28623.6221 - val_r2_score: 0.6868\n",
      "Epoch 190/200\n",
      "782/782 [==============================] - ETA: 0s - loss: 1429125760.0000 - rmse: 27317.2441 - r2_score: 0.63 - 0s 23us/step - loss: 2391264736.9003 - rmse: 32228.2892 - r2_score: 0.5939 - val_loss: 1675937431.5102 - val_rmse: 28380.0859 - val_r2_score: 0.6853\n",
      "Epoch 191/200\n",
      "782/782 [==============================] - 0s 23us/step - loss: 2419367039.6726 - rmse: 32657.2960 - r2_score: 0.5793 - val_loss: 1652357564.0816 - val_rmse: 28607.2771 - val_r2_score: 0.6891\n",
      "Epoch 192/200\n",
      "782/782 [==============================] - 0s 21us/step - loss: 2387375012.6650 - rmse: 32085.9405 - r2_score: 0.5948 - val_loss: 1738056531.5918 - val_rmse: 28594.6738 - val_r2_score: 0.6742\n",
      "Epoch 193/200\n",
      "782/782 [==============================] - 0s 21us/step - loss: 2388483775.8363 - rmse: 32073.6378 - r2_score: 0.5689 - val_loss: 1639836734.6939 - val_rmse: 28580.2868 - val_r2_score: 0.6913\n",
      "Epoch 194/200\n",
      "782/782 [==============================] - 0s 21us/step - loss: 2389115780.9105 - rmse: 32464.6997 - r2_score: 0.5921 - val_loss: 1646527958.2041 - val_rmse: 28235.5839 - val_r2_score: 0.6909\n",
      "Epoch 195/200\n",
      "782/782 [==============================] - 0s 21us/step - loss: 2396891917.2583 - rmse: 32256.3295 - r2_score: 0.5930 - val_loss: 1732480888.1633 - val_rmse: 28371.4577 - val_r2_score: 0.6757\n",
      "Epoch 196/200\n",
      "782/782 [==============================] - 0s 20us/step - loss: 2380817918.0358 - rmse: 32014.8686 - r2_score: 0.5913 - val_loss: 1639133419.1020 - val_rmse: 28350.9833 - val_r2_score: 0.6920\n",
      "Epoch 197/200\n",
      "782/782 [==============================] - 0s 21us/step - loss: 2364136836.9105 - rmse: 32185.2666 - r2_score: 0.6009 - val_loss: 1642103557.2245 - val_rmse: 28163.3933 - val_r2_score: 0.6919\n",
      "Epoch 198/200\n",
      "782/782 [==============================] - 0s 21us/step - loss: 2358257994.9668 - rmse: 32027.9412 - r2_score: 0.5858 - val_loss: 1644492648.4898 - val_rmse: 28036.6575 - val_r2_score: 0.6917\n",
      "Epoch 199/200\n",
      "782/782 [==============================] - 0s 21us/step - loss: 2352793586.9054 - rmse: 31890.5317 - r2_score: 0.6021 - val_loss: 1636950648.1633 - val_rmse: 28037.5679 - val_r2_score: 0.6931\n",
      "Epoch 200/200\n",
      "782/782 [==============================] - 0s 22us/step - loss: 2367517741.8312 - rmse: 32067.1766 - r2_score: 0.5855 - val_loss: 1624778725.8776 - val_rmse: 28377.6589 - val_r2_score: 0.6947\n"
     ]
    }
   ],
   "source": [
    "history = model.fit(X_train.values, y_train.values, epochs=200, batch_size=128, validation_split=0.2)"
   ]
  },
  {
   "cell_type": "code",
   "execution_count": 46,
   "metadata": {},
   "outputs": [],
   "source": [
    "y_pred = model.predict(X_test.values)"
   ]
  },
  {
   "cell_type": "code",
   "execution_count": 62,
   "metadata": {},
   "outputs": [
    {
     "data": {
      "image/png": "[encoded data removed]",
      "text/plain": [
       "<matplotlib.figure.Figure at 0x7f401707d438>"
      ]
     },
     "metadata": {
      "needs_background": "light"
     },
     "output_type": "display_data"
    }
   ],
   "source": [
    "# display loss\n",
    "plt.plot(history.history['loss'], label='Loss (training data)')\n",
    "plt.plot(history.history['val_loss'], label='Loss (validation data)')\n",
    "plt.title('Model Loss')\n",
    "plt.ylabel('Loss')\n",
    "plt.xlabel('No. epoch')\n",
    "plt.legend(loc='upper left')\n",
    "plt.show()"
   ]
  },
  {
   "cell_type": "code",
   "execution_count": 57,
   "metadata": {
    "scrolled": true
   },
   "outputs": [
    {
     "data": {
      "image/png": "[encoded data removed]",
      "text/plain": [
       "<matplotlib.figure.Figure at 0x7f401c35f358>"
      ]
     },
     "metadata": {
      "needs_background": "light"
     },
     "output_type": "display_data"
    }
   ],
   "source": [
    "# display R^2\n",
    "plt.plot(history.history['r2_score'], label='MSE (training data)')\n",
    "plt.plot(history.history['val_r2_score'], label='MSE (validation data)')\n",
    "plt.title('R^2')\n",
    "plt.ylabel('R^2 score')\n",
    "plt.xlabel('No. epoch')\n",
    "plt.legend(loc=\"upper left\")\n",
    "plt.show()"
   ]
  },
  {
   "cell_type": "code",
   "execution_count": 58,
   "metadata": {},
   "outputs": [
    {
     "data": {
      "image/png": "[encoded data removed]",
      "text/plain": [
       "<matplotlib.figure.Figure at 0x7f40176b4d68>"
      ]
     },
     "metadata": {
      "needs_background": "light"
     },
     "output_type": "display_data"
    }
   ],
   "source": [
    "# display RMSE\n",
    "plt.plot(history.history['rmse'], label='MSE (training data)')\n",
    "plt.plot(history.history['val_rmse'], label='MSE (validation data)')\n",
    "plt.title('RMSE')\n",
    "plt.ylabel('RMSE')\n",
    "plt.xlabel('No. epoch')\n",
    "plt.legend(loc=\"upper left\")\n",
    "plt.show()"
   ]
  },
  {
   "cell_type": "code",
   "execution_count": 59,
   "metadata": {},
   "outputs": [
    {
     "data": {
      "image/png": "[encoded data removed]",
      "text/plain": [
       "<matplotlib.figure.Figure at 0x7f4017191160>"
      ]
     },
     "metadata": {
      "needs_background": "light"
     },
     "output_type": "display_data"
    }
   ],
   "source": [
    "from sklearn.linear_model import LinearRegression  \n",
    "regressor = LinearRegression()  \n",
    "regressor.fit(y_test.values.reshape(-1,1), y_pred)  \n",
    "y_fit = regressor.predict(y_pred) \n",
    "\n",
    "reg_intercept = round(regressor.intercept_[0],4)\n",
    "reg_coef = round(regressor.coef_.flatten()[0],4)\n",
    "reg_label = \"y = \" + str(reg_intercept) + \"*x +\" + str(reg_coef)\n",
    "\n",
    "plt.scatter(y_test, y_pred, color='blue', label= 'data')\n",
    "plt.plot(y_pred, y_fit, color='red', linewidth=2, label = 'Linear regression\\n'+reg_label) \n",
    "plt.title('Linear Regression')\n",
    "plt.legend()\n",
    "plt.xlabel('observed')\n",
    "plt.ylabel('predicted')\n",
    "plt.show()"
   ]
  },
  {
   "cell_type": "code",
   "execution_count": 60,
   "metadata": {},
   "outputs": [
    {
     "name": "stdout",
     "output_type": "stream",
     "text": [
      "R^2 score (R^2):                 0.647560\n",
      "Root mean squared error (RMSE): 50866.481915\n"
     ]
    }
   ],
   "source": [
    "import sklearn.metrics, math\n",
    "print(\"R^2 score (R^2):                 %f\" % sklearn.metrics.r2_score(y_test,y_pred))\n",
    "print(\"Root mean squared error (RMSE): %f\" % math.sqrt(sklearn.metrics.mean_squared_error(y_test,y_pred)))"
   ]
  },
  {
   "cell_type": "markdown",
   "metadata": {},
   "source": [
    "### Subsection 5 \n",
    "\n",
    "Maybe you do model selection again, but using a different kind of metric than before?"
   ]
  },
  {
   "cell_type": "markdown",
   "metadata": {},
   "source": [
    "# Discussion\n",
    "\n",
    "### Interpreting the result\n",
    "\n",
    "OK, you've given us quite a bit of tech informaiton above, now its time to tell us what to pay attention to in all that.  Think clearly about your results, decide on one main point and 2-4 secondary points you want us to understand. Highlight HOW your results support those points.  You probably want 2-5 sentences per point.\n",
    "\n",
    "### Limitations\n",
    "\n",
    "Are there any problems with the work?  For instance would more data change the nature of the problem? Would it be good to explore more hyperparams than you had time for?   \n",
    "\n",
    "Our dataset is pretty small to be used as a machine learning dataset. Having more data is likely to yield a more reliable prediction. The dataset also contains numerous features of houses, which led to a potentially too complicated model.\n",
    "\n",
    "### Ethics & Privacy\n",
    "\n",
    "Our research question and hypothesis are designed to explore the house pricing dataset and train a model to make good predictions based on some features. The dataset we use is a public, open-source dataset on Kaggle, which gives us the right to perform data analysis and modeling on it. The dataset is anonymized so we will not violate any personal rights regarding the properties. \n",
    "\n",
    "We have monitored the biases in the dataset during our project. The dataset is collected by Kaggle is might be biased and thus not representative due to various factors, for instance, missing values. We address this problem during our data cleaning process, remove a few features due to overlap during feature selection, and carry out feature encoding to enable statistical analysis. We have ensured our visualizations, summary statistics, and reports are honestly representing the underlying data.\n",
    "\n",
    "We have monitored the biases during our data analysis and modeling. The bias in the model might lead to biased results, and we have ensured the variables in the model are not unfair or discriminatory in any way. We have explained the decisions made based our models in an understandable way. \n",
    "\n",
    "Our project repository is open to the COGS 118A staff members for any investigation and has undergone peer review processes during the project.\n",
    "\n",
    "### Conclusion\n",
    "\n",
    "Reiterate your main point and in just a few sentences tell us how your results support it. Mention how this work would fit in the background/context of other work in this field if you can. Suggest directions for future work if you want to."
   ]
  },
  {
   "cell_type": "markdown",
   "metadata": {},
   "source": [
    "# Footnotes\n",
    "<a name=\"wikiznote\"></a>1.[^](#wiki):Wikimedia Foundation. (28 May 2022). Coefficient of determination. *Wikipedia.*\n",
    "https://en.wikipedia.org/wiki/Coefficient_of_determination<br> "
   ]
  },
  {
   "cell_type": "code",
   "execution_count": null,
   "metadata": {},
   "outputs": [],
   "source": []
  }
 ],
 "metadata": {
  "interpreter": {
   "hash": "7db51d3b5d4cdf7001444ef996f7c1e3eb40aea1d512eba813aa6eb32666145e"
  },
  "kernelspec": {
   "display_name": "Python 3 (ipykernel)",
   "language": "python",
   "name": "python3"
  },
  "language_info": {
   "codemirror_mode": {
    "name": "ipython",
    "version": 3
   },
   "file_extension": ".py",
   "mimetype": "text/x-python",
   "name": "python",
   "nbconvert_exporter": "python",
   "pygments_lexer": "ipython3",
   "version": "3.8.8"
  }
 },
 "nbformat": 4,
 "nbformat_minor": 2
}
