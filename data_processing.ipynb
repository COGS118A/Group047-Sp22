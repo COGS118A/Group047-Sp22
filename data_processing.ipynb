{
 "cells": [
  {
   "cell_type": "code",
   "execution_count": 3,
   "id": "b333a5c8",
   "metadata": {},
   "outputs": [],
   "source": [
    "import numpy as np\n",
    "import pandas as pd\n",
    "import sklearn \n",
    "from matplotlib import pyplot as plt\n",
    "from sklearn.decomposition import PCA"
   ]
  },
  {
   "cell_type": "code",
   "execution_count": 4,
   "id": "67cb4b43",
   "metadata": {},
   "outputs": [],
   "source": [
    "def one_hot(original_dataframe, feature_to_encode):\n",
    "    dtype = original_dataframe[feature_to_encode].dtype\n",
    "    \n",
    "    if dtype == 'object':\n",
    "        dummies = pd.get_dummies(original_dataframe[[feature_to_encode]])\n",
    "        res = pd.concat([original_dataframe, dummies], axis=1)\n",
    "        res = res.drop([feature_to_encode], axis=1)\n",
    "        \n",
    "        return(res) \n",
    "    else: \n",
    "        return original_dataframe\n",
    "\n",
    "def process_data(data_path):\n",
    "    import numpy as np\n",
    "    import pandas as pd\n",
    "    import sklearn \n",
    "    from matplotlib import pyplot as plt\n",
    "    from sklearn.decomposition import PCA\n",
    "    \n",
    "    data = pd.read_csv(data_path)\n",
    "\n",
    "    for i, col in enumerate(data.columns):\n",
    "        data = one_hot(data, col)\n",
    "        \n",
    "    data = data.to_numpy()\n",
    "    data = np.nan_to_num(data)\n",
    "    \n",
    "    return data"
   ]
  },
  {
   "cell_type": "code",
   "execution_count": null,
   "id": "b3d83280",
   "metadata": {},
   "outputs": [],
   "source": []
  },
  {
   "cell_type": "code",
   "execution_count": null,
   "id": "a4105a36",
   "metadata": {},
   "outputs": [],
   "source": []
  },
  {
   "cell_type": "code",
   "execution_count": null,
   "id": "42f821d7",
   "metadata": {},
   "outputs": [],
   "source": []
  },
  {
   "cell_type": "code",
   "execution_count": null,
   "id": "9254d4f2",
   "metadata": {},
   "outputs": [],
   "source": []
  },
  {
   "cell_type": "code",
   "execution_count": 87,
   "id": "fdd4ad35",
   "metadata": {},
   "outputs": [],
   "source": [
    "train = pd.read_csv('./data/train.csv')"
   ]
  },
  {
   "cell_type": "code",
   "execution_count": 88,
   "id": "5555ec78",
   "metadata": {},
   "outputs": [],
   "source": [
    "def one_hot(original_dataframe, feature_to_encode):\n",
    "    dtype = original_dataframe[feature_to_encode].dtype\n",
    "    \n",
    "    if dtype == 'object':\n",
    "        dummies = pd.get_dummies(original_dataframe[[feature_to_encode]])\n",
    "        res = pd.concat([original_dataframe, dummies], axis=1)\n",
    "        res = res.drop([feature_to_encode], axis=1)\n",
    "        \n",
    "        return(res) \n",
    "    else: \n",
    "        return original_dataframe"
   ]
  },
  {
   "cell_type": "code",
   "execution_count": 89,
   "id": "b358099e",
   "metadata": {
    "scrolled": false
   },
   "outputs": [],
   "source": [
    "data = train\n",
    "\n",
    "for i, col in enumerate(train.columns):\n",
    "    data = one_hot(data, col)"
   ]
  },
  {
   "cell_type": "code",
   "execution_count": 90,
   "id": "bc2f347d",
   "metadata": {},
   "outputs": [],
   "source": [
    "data = data.to_numpy()\n",
    "data = np.nan_to_num(data)"
   ]
  },
  {
   "cell_type": "code",
   "execution_count": 92,
   "id": "c4948c6b",
   "metadata": {},
   "outputs": [],
   "source": [
    "pca = PCA(n_components=100)\n",
    "pca.fit(data)\n",
    "data_t = pca.transform(data)"
   ]
  },
  {
   "cell_type": "code",
   "execution_count": 93,
   "id": "71e2c8ab",
   "metadata": {},
   "outputs": [
    {
     "name": "stdout",
     "output_type": "stream",
     "text": [
      "[[ 2.74936940e+04 -2.99390195e+03 -2.91099509e+02 ... -4.03106289e-02\n",
      "   3.31353963e-02  4.46830293e-02]\n",
      " [ 5.47887375e+02 -9.29979749e+02  7.46484713e+02 ...  2.57237581e-01\n",
      "   2.38535365e-01 -1.59697638e-02]\n",
      " [ 4.25796112e+04 -7.01908375e+02 -4.72423087e+02 ...  6.04102842e-02\n",
      "   1.45982451e-01 -1.64704880e-01]\n",
      " ...\n",
      " [ 8.54831706e+04 -4.35077300e+03 -1.00386691e+03 ...  4.67500200e-01\n",
      "   3.08211731e-01 -1.37559603e-01]\n",
      " [-3.88047772e+04  5.06480383e+02  2.84327142e+02 ... -1.39437191e-01\n",
      "  -2.53145054e-01 -1.96836371e-01]\n",
      " [-3.34214006e+04  5.50709745e+02  7.01748178e+02 ...  1.42406976e-01\n",
      "   8.30597320e-02  5.58182775e-02]]\n"
     ]
    }
   ],
   "source": [
    "print(data_t)"
   ]
  },
  {
   "cell_type": "code",
   "execution_count": 5,
   "id": "deb5de96",
   "metadata": {},
   "outputs": [],
   "source": [
    "data_t = process_data('./data/train.csv')"
   ]
  },
  {
   "cell_type": "code",
   "execution_count": 6,
   "id": "349e4e4c",
   "metadata": {},
   "outputs": [
    {
     "name": "stdout",
     "output_type": "stream",
     "text": [
      "[[1.000e+00 6.000e+01 6.500e+01 ... 0.000e+00 1.000e+00 0.000e+00]\n",
      " [2.000e+00 2.000e+01 8.000e+01 ... 0.000e+00 1.000e+00 0.000e+00]\n",
      " [3.000e+00 6.000e+01 6.800e+01 ... 0.000e+00 1.000e+00 0.000e+00]\n",
      " ...\n",
      " [1.458e+03 7.000e+01 6.600e+01 ... 0.000e+00 1.000e+00 0.000e+00]\n",
      " [1.459e+03 2.000e+01 6.800e+01 ... 0.000e+00 1.000e+00 0.000e+00]\n",
      " [1.460e+03 2.000e+01 7.500e+01 ... 0.000e+00 1.000e+00 0.000e+00]]\n"
     ]
    }
   ],
   "source": [
    "print(data_t)"
   ]
  }
 ],
 "metadata": {
  "kernelspec": {
   "display_name": "Python 3 (ipykernel)",
   "language": "python",
   "name": "python3"
  },
  "language_info": {
   "codemirror_mode": {
    "name": "ipython",
    "version": 3
   },
   "file_extension": ".py",
   "mimetype": "text/x-python",
   "name": "python",
   "nbconvert_exporter": "python",
   "pygments_lexer": "ipython3",
   "version": "3.8.8"
  }
 },
 "nbformat": 4,
 "nbformat_minor": 5
}
